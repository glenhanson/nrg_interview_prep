{
 "cells": [
  {
   "cell_type": "code",
   "execution_count": 10,
   "id": "0d871b22",
   "metadata": {},
   "outputs": [],
   "source": [
    "import pandas as pd\n",
    "from lifelines import CoxPHFitter\n",
    "from pathlib import Path\n",
    "import matplotlib.pyplot as plt\n",
    "from lifelines.utils import concordance_index\n",
    "import numpy as np"
   ]
  },
  {
   "cell_type": "code",
   "execution_count": 3,
   "id": "b0ea6e67",
   "metadata": {},
   "outputs": [],
   "source": [
    "survival_data_path = Path(\"/workspaces/nrg_interview_prep/data/survival_data.csv\")\n",
    "survival_data_df = pd.read_csv(survival_data_path)"
   ]
  },
  {
   "cell_type": "code",
   "execution_count": 4,
   "id": "aff341c6",
   "metadata": {},
   "outputs": [
    {
     "data": {
      "text/plain": [
       "E\n",
       "1    189\n",
       "0     11\n",
       "Name: count, dtype: int64"
      ]
     },
     "execution_count": 4,
     "metadata": {},
     "output_type": "execute_result"
    }
   ],
   "source": [
    "survival_data_df['E'].value_counts()"
   ]
  },
  {
   "cell_type": "markdown",
   "id": "ffb33bb8",
   "metadata": {},
   "source": [
    "There's not a lot of data (relative few censored/non-events), but I still want to have a small test holdout set."
   ]
  },
  {
   "cell_type": "code",
   "execution_count": 5,
   "id": "fb5753b5",
   "metadata": {},
   "outputs": [],
   "source": [
    "test_size = 10  # small test you want\n",
    "rng = np.random.default_rng(seed=17)\n",
    "\n",
    "\n",
    "censored_idx = survival_data_df.index[survival_data_df['E'] == 0].tolist()\n",
    "event_idx = survival_data_df.index[survival_data_df['E'] == 1].tolist()\n",
    "\n",
    "# Ensure atleast one censored data point\n",
    "chosen = []\n",
    "chosen.append(rng.choice(censored_idx))\n",
    "\n",
    "\n",
    "remaining_pool = survival_data_df.index.difference(chosen)\n",
    "remaining_choices = rng.choice(remaining_pool, size=test_size - 1, replace=False)\n",
    "chosen.extend(list(remaining_choices))\n",
    "\n",
    "test_df = survival_data_df.loc[chosen].reset_index(drop=True)\n",
    "train_df = survival_data_df.drop(index=chosen).reset_index(drop=True)"
   ]
  },
  {
   "cell_type": "code",
   "execution_count": 6,
   "id": "8286e492",
   "metadata": {},
   "outputs": [
    {
     "name": "stdout",
     "output_type": "stream",
     "text": [
      "Train set 'E' value counts:\n",
      "E\n",
      "1    180\n",
      "0     10\n",
      "Name: count, dtype: int64\n",
      "\n",
      "Test set 'E' value counts:\n",
      "E\n",
      "1    9\n",
      "0    1\n",
      "Name: count, dtype: int64\n"
     ]
    }
   ],
   "source": [
    "# Check that the split worked\n",
    "print(\"Train set 'E' value counts:\")\n",
    "print(train_df['E'].value_counts())\n",
    "print(\"\\nTest set 'E' value counts:\")\n",
    "print(test_df['E'].value_counts())"
   ]
  },
  {
   "cell_type": "code",
   "execution_count": 7,
   "id": "94f00075",
   "metadata": {},
   "outputs": [
    {
     "name": "stdout",
     "output_type": "stream",
     "text": [
      "\n",
      "=== Cox Proportional Hazards Model Summary ===\n"
     ]
    },
    {
     "data": {
      "text/html": [
       "<div>\n",
       "<style scoped>\n",
       "    .dataframe tbody tr th:only-of-type {\n",
       "        vertical-align: middle;\n",
       "    }\n",
       "\n",
       "    .dataframe tbody tr th {\n",
       "        vertical-align: top;\n",
       "    }\n",
       "\n",
       "    .dataframe thead th {\n",
       "        text-align: right;\n",
       "    }\n",
       "</style>\n",
       "<table border=\"1\" class=\"dataframe\">\n",
       "  <tbody>\n",
       "    <tr>\n",
       "      <th>model</th>\n",
       "      <td>lifelines.CoxPHFitter</td>\n",
       "    </tr>\n",
       "    <tr>\n",
       "      <th>duration col</th>\n",
       "      <td>'T'</td>\n",
       "    </tr>\n",
       "    <tr>\n",
       "      <th>event col</th>\n",
       "      <td>'E'</td>\n",
       "    </tr>\n",
       "    <tr>\n",
       "      <th>baseline estimation</th>\n",
       "      <td>breslow</td>\n",
       "    </tr>\n",
       "    <tr>\n",
       "      <th>number of observations</th>\n",
       "      <td>190</td>\n",
       "    </tr>\n",
       "    <tr>\n",
       "      <th>number of events observed</th>\n",
       "      <td>180</td>\n",
       "    </tr>\n",
       "    <tr>\n",
       "      <th>partial log-likelihood</th>\n",
       "      <td>-760.33</td>\n",
       "    </tr>\n",
       "    <tr>\n",
       "      <th>time fit was run</th>\n",
       "      <td>2025-10-30 03:58:54 UTC</td>\n",
       "    </tr>\n",
       "  </tbody>\n",
       "</table>\n",
       "</div><table border=\"1\" class=\"dataframe\">\n",
       "  <thead>\n",
       "    <tr style=\"text-align: right;\">\n",
       "      <th style=\"min-width: 12px;\"></th>\n",
       "      <th style=\"min-width: 12px;\">coef</th>\n",
       "      <th style=\"min-width: 12px;\">exp(coef)</th>\n",
       "      <th style=\"min-width: 12px;\">se(coef)</th>\n",
       "      <th style=\"min-width: 12px;\">coef lower 95%</th>\n",
       "      <th style=\"min-width: 12px;\">coef upper 95%</th>\n",
       "      <th style=\"min-width: 12px;\">exp(coef) lower 95%</th>\n",
       "      <th style=\"min-width: 12px;\">exp(coef) upper 95%</th>\n",
       "      <th style=\"min-width: 12px;\">cmp to</th>\n",
       "      <th style=\"min-width: 12px;\">z</th>\n",
       "      <th style=\"min-width: 12px;\">p</th>\n",
       "      <th style=\"min-width: 12px;\">-log2(p)</th>\n",
       "    </tr>\n",
       "  </thead>\n",
       "  <tbody>\n",
       "    <tr>\n",
       "      <th>var1</th>\n",
       "      <td>0.22</td>\n",
       "      <td>1.25</td>\n",
       "      <td>0.07</td>\n",
       "      <td>0.07</td>\n",
       "      <td>0.37</td>\n",
       "      <td>1.08</td>\n",
       "      <td>1.44</td>\n",
       "      <td>0.00</td>\n",
       "      <td>2.94</td>\n",
       "      <td>&lt;0.005</td>\n",
       "      <td>8.25</td>\n",
       "    </tr>\n",
       "    <tr>\n",
       "      <th>var2</th>\n",
       "      <td>0.03</td>\n",
       "      <td>1.03</td>\n",
       "      <td>0.09</td>\n",
       "      <td>-0.14</td>\n",
       "      <td>0.20</td>\n",
       "      <td>0.87</td>\n",
       "      <td>1.22</td>\n",
       "      <td>0.00</td>\n",
       "      <td>0.33</td>\n",
       "      <td>0.74</td>\n",
       "      <td>0.43</td>\n",
       "    </tr>\n",
       "    <tr>\n",
       "      <th>var3</th>\n",
       "      <td>0.23</td>\n",
       "      <td>1.25</td>\n",
       "      <td>0.08</td>\n",
       "      <td>0.07</td>\n",
       "      <td>0.38</td>\n",
       "      <td>1.08</td>\n",
       "      <td>1.46</td>\n",
       "      <td>0.00</td>\n",
       "      <td>2.88</td>\n",
       "      <td>&lt;0.005</td>\n",
       "      <td>7.97</td>\n",
       "    </tr>\n",
       "  </tbody>\n",
       "</table><br><div>\n",
       "<style scoped>\n",
       "    .dataframe tbody tr th:only-of-type {\n",
       "        vertical-align: middle;\n",
       "    }\n",
       "\n",
       "    .dataframe tbody tr th {\n",
       "        vertical-align: top;\n",
       "    }\n",
       "\n",
       "    .dataframe thead th {\n",
       "        text-align: right;\n",
       "    }\n",
       "</style>\n",
       "<table border=\"1\" class=\"dataframe\">\n",
       "  <tbody>\n",
       "    <tr>\n",
       "      <th>Concordance</th>\n",
       "      <td>0.58</td>\n",
       "    </tr>\n",
       "    <tr>\n",
       "      <th>Partial AIC</th>\n",
       "      <td>1526.66</td>\n",
       "    </tr>\n",
       "    <tr>\n",
       "      <th>log-likelihood ratio test</th>\n",
       "      <td>15.12 on 3 df</td>\n",
       "    </tr>\n",
       "    <tr>\n",
       "      <th>-log2(p) of ll-ratio test</th>\n",
       "      <td>9.19</td>\n",
       "    </tr>\n",
       "  </tbody>\n",
       "</table>\n",
       "</div>"
      ],
      "text/latex": [
       "\\begin{tabular}{lrrrrrrrrrrr}\n",
       " & coef & exp(coef) & se(coef) & coef lower 95% & coef upper 95% & exp(coef) lower 95% & exp(coef) upper 95% & cmp to & z & p & -log2(p) \\\\\n",
       "covariate &  &  &  &  &  &  &  &  &  &  &  \\\\\n",
       "var1 & 0.22 & 1.25 & 0.07 & 0.07 & 0.37 & 1.08 & 1.44 & 0.00 & 2.94 & 0.00 & 8.25 \\\\\n",
       "var2 & 0.03 & 1.03 & 0.09 & -0.14 & 0.20 & 0.87 & 1.22 & 0.00 & 0.33 & 0.74 & 0.43 \\\\\n",
       "var3 & 0.23 & 1.25 & 0.08 & 0.07 & 0.38 & 1.08 & 1.46 & 0.00 & 2.88 & 0.00 & 7.97 \\\\\n",
       "\\end{tabular}\n"
      ],
      "text/plain": [
       "<lifelines.CoxPHFitter: fitted with 190 total observations, 10 right-censored observations>\n",
       "             duration col = 'T'\n",
       "                event col = 'E'\n",
       "      baseline estimation = breslow\n",
       "   number of observations = 190\n",
       "number of events observed = 180\n",
       "   partial log-likelihood = -760.33\n",
       "         time fit was run = 2025-10-30 03:58:54 UTC\n",
       "\n",
       "---\n",
       "           coef exp(coef)  se(coef)  coef lower 95%  coef upper 95% exp(coef) lower 95% exp(coef) upper 95%\n",
       "covariate                                                                                                  \n",
       "var1       0.22      1.25      0.07            0.07            0.37                1.08                1.44\n",
       "var2       0.03      1.03      0.09           -0.14            0.20                0.87                1.22\n",
       "var3       0.23      1.25      0.08            0.07            0.38                1.08                1.46\n",
       "\n",
       "           cmp to    z      p  -log2(p)\n",
       "covariate                              \n",
       "var1         0.00 2.94 <0.005      8.25\n",
       "var2         0.00 0.33   0.74      0.43\n",
       "var3         0.00 2.88 <0.005      7.97\n",
       "---\n",
       "Concordance = 0.58\n",
       "Partial AIC = 1526.66\n",
       "log-likelihood ratio test = 15.12 on 3 df\n",
       "-log2(p) of ll-ratio test = 9.19"
      ]
     },
     "metadata": {},
     "output_type": "display_data"
    },
    {
     "name": "stdout",
     "output_type": "stream",
     "text": [
      "\n",
      "=== Hazard Ratios (exp(coef)) ===\n",
      "covariate\n",
      "var1    1.246392\n",
      "var2    1.028993\n",
      "var3    1.254341\n",
      "Name: exp(coef), dtype: float64\n",
      "• A one-unit increase in var1 increases the hazard rate (coef=0.220).\n",
      "• A one-unit increase in var2 increases the hazard rate (coef=0.029).\n",
      "• A one-unit increase in var3 increases the hazard rate (coef=0.227).\n"
     ]
    },
    {
     "data": {
      "image/png": "[encoded data removed]",
      "text/plain": [
       "<Figure size 640x480 with 1 Axes>"
      ]
     },
     "metadata": {},
     "output_type": "display_data"
    }
   ],
   "source": [
    "cph = CoxPHFitter()\n",
    "cph.fit(train_df, duration_col='T', event_col='E')\n",
    "\n",
    "\n",
    "print(\"\\n=== Cox Proportional Hazards Model Summary ===\")\n",
    "cph.print_summary()  # shows coefficients, p-values, confidence intervals, etc.\n",
    "\n",
    "\n",
    "print(\"\\n=== Hazard Ratios (exp(coef)) ===\")\n",
    "print(cph.hazard_ratios_)\n",
    "\n",
    "for var, coef in cph.params_.items():\n",
    "    if coef > 0:\n",
    "        direction = \"increases\"\n",
    "    elif coef < 0:\n",
    "        direction = \"decreases\"\n",
    "    else:\n",
    "        direction = \"does not affect\"\n",
    "    print(f\"• A one-unit increase in {var} {direction} the hazard rate (coef={coef:.3f}).\")\n",
    "\n",
    "\n",
    "cph.plot()\n",
    "plt.title(\"Cox Model Coefficients and 95% Confidence Intervals\")\n",
    "plt.show()\n",
    "\n"
   ]
  },
  {
   "cell_type": "code",
   "execution_count": 11,
   "id": "27fe6bb9",
   "metadata": {},
   "outputs": [
    {
     "name": "stdout",
     "output_type": "stream",
     "text": [
      "Concordance index on test set: 0.538\n"
     ]
    }
   ],
   "source": [
    "# Evaluate using concordance index\n",
    "test_risk = cph.predict_partial_hazard(test_df)\n",
    "concordance = concordance_index(\n",
    "    test_df['T'], -test_risk, test_df['E'])\n",
    "print(f\"Concordance index on test set: {concordance:.3f}\")"
   ]
  },
  {
   "cell_type": "markdown",
   "id": "8a998b1f",
   "metadata": {},
   "source": [
    "Only slightly better than random guessing . . . definitely need more data and maybe better features, not enough information to know for sure"
   ]
  },
  {
   "cell_type": "code",
   "execution_count": 12,
   "id": "07a4e338",
   "metadata": {},
   "outputs": [
    {
     "name": "stdout",
     "output_type": "stream",
     "text": [
      "Proportional hazard assumption looks okay.\n"
     ]
    },
    {
     "data": {
      "text/plain": [
       "[]"
      ]
     },
     "execution_count": 12,
     "metadata": {},
     "output_type": "execute_result"
    }
   ],
   "source": [
    "cph.check_assumptions(train_df)"
   ]
  }
 ],
 "metadata": {
  "kernelspec": {
   "display_name": "Python 3",
   "language": "python",
   "name": "python3"
  },
  "language_info": {
   "codemirror_mode": {
    "name": "ipython",
    "version": 3
   },
   "file_extension": ".py",
   "mimetype": "text/x-python",
   "name": "python",
   "nbconvert_exporter": "python",
   "pygments_lexer": "ipython3",
   "version": "3.13.9"
  }
 },
 "nbformat": 4,
 "nbformat_minor": 5
}
